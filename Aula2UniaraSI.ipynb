{
  "nbformat": 4,
  "nbformat_minor": 0,
  "metadata": {
    "colab": {
      "provenance": [],
      "authorship_tag": "ABX9TyO4sTI9wY5o2DEOuHYIutV/",
      "include_colab_link": true
    },
    "kernelspec": {
      "name": "python3",
      "display_name": "Python 3"
    },
    "language_info": {
      "name": "python"
    }
  },
  "cells": [
    {
      "cell_type": "markdown",
      "metadata": {
        "id": "view-in-github",
        "colab_type": "text"
      },
      "source": [
        "<a href=\"https://colab.research.google.com/github/LucasCabrio/bancodedadosuniara2024/blob/main/Aula2UniaraSI.ipynb\" target=\"_parent\"><img src=\"https://colab.research.google.com/assets/colab-badge.svg\" alt=\"Open In Colab\"/></a>"
      ]
    },
    {
      "cell_type": "code",
      "execution_count": 2,
      "metadata": {
        "colab": {
          "base_uri": "https://localhost:8080/"
        },
        "id": "j31XWhrwFACK",
        "outputId": "2669424f-d20e-4a28-b779-188068990369"
      },
      "outputs": [
        {
          "output_type": "stream",
          "name": "stdout",
          "text": [
            "Oba turma da uniara\n"
          ]
        }
      ],
      "source": [
        "print(\"Oba turma da uniara\")"
      ]
    },
    {
      "cell_type": "code",
      "source": [
        "#Aqui estou declarando uma variavel recebendo o nome do arquivo\n",
        "arquivo = \"turmaUniaraArquivo.txt\"\n",
        "\n",
        "#Estou abrindo um arquivo para poder gravar dados ('w') e um alias (apelido) para poder ser utilizado dentro do código.\n",
        "with open(arquivo,'w') as f:\n",
        "  f.write(\"Show de bola!\\n\")\n",
        "  f.write(\"Massa\")\n",
        "print(\"Feito\")\n"
      ],
      "metadata": {
        "colab": {
          "base_uri": "https://localhost:8080/"
        },
        "id": "8uePy_s1GIP0",
        "outputId": "ca7cbfc7-9fa4-4425-89a7-68a42a463863"
      },
      "execution_count": 8,
      "outputs": [
        {
          "output_type": "stream",
          "name": "stdout",
          "text": [
            "Feito\n"
          ]
        }
      ]
    }
  ]
}